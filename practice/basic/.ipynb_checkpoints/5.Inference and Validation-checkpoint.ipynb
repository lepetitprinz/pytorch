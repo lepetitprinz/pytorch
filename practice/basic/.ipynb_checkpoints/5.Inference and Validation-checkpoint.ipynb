{
 "cells": [
  {
   "cell_type": "markdown",
   "id": "3c506f5a",
   "metadata": {},
   "source": [
    "### Inference and Validation"
   ]
  },
  {
   "cell_type": "code",
   "execution_count": 7,
   "id": "371fe9a6",
   "metadata": {},
   "outputs": [],
   "source": [
    "import torch\n",
    "from torch import nn, optim\n",
    "import torch.nn.functional as F\n",
    "from torchvision import datasets, transforms"
   ]
  },
  {
   "cell_type": "code",
   "execution_count": 8,
   "id": "ee26c85c",
   "metadata": {},
   "outputs": [],
   "source": [
    "# Define a transform to normalize the data\n",
    "transform = transforms.Compose(\n",
    "\t[transforms.ToTensor(),\n",
    "\t transforms.Normalize((0.5,), (0.5,))]\n",
    "\t)\n",
    "\n",
    "# Download and load the training data\n",
    "trainset = datasets.FashionMNIST('~/.pytorch/F_MNIST_data/', download=True, train=True, transform=transform)\n",
    "trainloader = torch.utils.data.DataLoader(trainset, batch_size=64, shuffle=True)\n",
    "\n",
    "# Download and load the test data\n",
    "testset = datasets.FashionMNIST('~/.pytorch/F_MNIST_data/', download=True, train=False, transform=transform)\n",
    "testloader = torch.utils.data.DataLoader(testset, batch_size=64, shuffle=True)"
   ]
  },
  {
   "cell_type": "code",
   "execution_count": 9,
   "id": "bdb0a331",
   "metadata": {},
   "outputs": [],
   "source": [
    "class Classifier(nn.Module):\n",
    "\tdef __init__(self):\n",
    "\t\tsuper().__init__()\n",
    "\t\tself.fc1 = nn.Linear(784, 256)\n",
    "\t\tself.fc2 = nn.Linear(256, 128)\n",
    "\t\tself.fc3 = nn.Linear(128, 64)\n",
    "\t\tself.fc4 = nn.Linear(64, 10)\n",
    "\n",
    "\tdef forward(self, x):\n",
    "\t\t# make sure input tensor is flattened\n",
    "\t\tx = x.view(x.shape[0], -1)\n",
    "\n",
    "\t\tx = F.relu(self.fc1(x))\n",
    "\t\tx = F.relu(self.fc2(x))\n",
    "\t\tx = F.relu(self.fc3(x))\n",
    "\t\tx = F.log_softmax(self.fc4(x), dim=1)\n",
    "\n",
    "\t\treturn x"
   ]
  },
  {
   "cell_type": "code",
   "execution_count": 10,
   "id": "21cdf267",
   "metadata": {},
   "outputs": [
    {
     "name": "stdout",
     "output_type": "stream",
     "text": [
      "torch.Size([64, 10])\n"
     ]
    }
   ],
   "source": [
    "model = Classifier()\n",
    "\n",
    "images, labels = next(iter(testloader))\n",
    "\n",
    "# get the class probabilities\n",
    "ps = torch.exp(model(images))\n",
    "\n",
    "# make sure the shape is appropriate\n",
    "print(ps.shape)"
   ]
  },
  {
   "cell_type": "code",
   "execution_count": 11,
   "id": "ec47a1e7",
   "metadata": {
    "collapsed": true
   },
   "outputs": [
    {
     "name": "stdout",
     "output_type": "stream",
     "text": [
      "tensor([[5],\n",
      "        [5],\n",
      "        [5],\n",
      "        [5],\n",
      "        [5],\n",
      "        [5],\n",
      "        [5],\n",
      "        [5],\n",
      "        [5],\n",
      "        [5]])\n"
     ]
    }
   ],
   "source": [
    "top_p, top_class = ps.topk(1, dim=1)\n",
    "\n",
    "# look at the most likely classes for the first 10 examples\n",
    "print(top_class[:10, :])"
   ]
  },
  {
   "cell_type": "code",
   "execution_count": 13,
   "id": "7291983f",
   "metadata": {},
   "outputs": [
    {
     "name": "stdout",
     "output_type": "stream",
     "text": [
      "Accuracy: 7.8125%\n"
     ]
    }
   ],
   "source": [
    "equals = top_class == labels.view(*top_class.shape)\n",
    "\n",
    "accuracy = torch.mean(equals.type(torch.FloatTensor))\n",
    "print(f'Accuracy: {accuracy.item() * 100}%')"
   ]
  },
  {
   "cell_type": "markdown",
   "id": "e3969972",
   "metadata": {},
   "source": [
    "#### training"
   ]
  },
  {
   "cell_type": "code",
   "execution_count": 16,
   "id": "031a3e67",
   "metadata": {
    "collapsed": true
   },
   "outputs": [
    {
     "name": "stdout",
     "output_type": "stream",
     "text": [
      "Epoch: 1/30..\n",
      "Training Loss: 0.519\n",
      "Test Loss: 0.461\n",
      "Test Accuracy: 0.828\n",
      "Epoch: 2/30..\n",
      "Training Loss: 0.394\n",
      "Test Loss: 0.412\n",
      "Test Accuracy: 0.850\n",
      "Epoch: 3/30..\n",
      "Training Loss: 0.358\n",
      "Test Loss: 0.437\n",
      "Test Accuracy: 0.855\n",
      "Epoch: 4/30..\n",
      "Training Loss: 0.337\n",
      "Test Loss: 0.370\n",
      "Test Accuracy: 0.867\n",
      "Epoch: 5/30..\n",
      "Training Loss: 0.313\n",
      "Test Loss: 0.380\n",
      "Test Accuracy: 0.862\n",
      "Epoch: 6/30..\n",
      "Training Loss: 0.301\n",
      "Test Loss: 0.392\n",
      "Test Accuracy: 0.861\n",
      "Epoch: 7/30..\n",
      "Training Loss: 0.297\n",
      "Test Loss: 0.389\n",
      "Test Accuracy: 0.870\n",
      "Epoch: 8/30..\n",
      "Training Loss: 0.286\n",
      "Test Loss: 0.368\n",
      "Test Accuracy: 0.867\n",
      "Epoch: 9/30..\n",
      "Training Loss: 0.274\n",
      "Test Loss: 0.388\n",
      "Test Accuracy: 0.863\n",
      "Epoch: 10/30..\n",
      "Training Loss: 0.270\n",
      "Test Loss: 0.382\n",
      "Test Accuracy: 0.872\n",
      "Epoch: 11/30..\n",
      "Training Loss: 0.259\n",
      "Test Loss: 0.380\n",
      "Test Accuracy: 0.872\n",
      "Epoch: 12/30..\n",
      "Training Loss: 0.253\n",
      "Test Loss: 0.389\n",
      "Test Accuracy: 0.875\n",
      "Epoch: 13/30..\n",
      "Training Loss: 0.250\n",
      "Test Loss: 0.379\n",
      "Test Accuracy: 0.875\n",
      "Epoch: 14/30..\n",
      "Training Loss: 0.243\n",
      "Test Loss: 0.388\n",
      "Test Accuracy: 0.876\n",
      "Epoch: 15/30..\n",
      "Training Loss: 0.240\n",
      "Test Loss: 0.390\n",
      "Test Accuracy: 0.874\n",
      "Epoch: 16/30..\n",
      "Training Loss: 0.235\n",
      "Test Loss: 0.370\n",
      "Test Accuracy: 0.878\n",
      "Epoch: 17/30..\n",
      "Training Loss: 0.232\n",
      "Test Loss: 0.390\n",
      "Test Accuracy: 0.876\n",
      "Epoch: 18/30..\n",
      "Training Loss: 0.225\n",
      "Test Loss: 0.382\n",
      "Test Accuracy: 0.880\n",
      "Epoch: 19/30..\n",
      "Training Loss: 0.219\n",
      "Test Loss: 0.371\n",
      "Test Accuracy: 0.881\n",
      "Epoch: 20/30..\n",
      "Training Loss: 0.217\n",
      "Test Loss: 0.387\n",
      "Test Accuracy: 0.880\n",
      "Epoch: 21/30..\n",
      "Training Loss: 0.212\n",
      "Test Loss: 0.393\n",
      "Test Accuracy: 0.880\n",
      "Epoch: 22/30..\n",
      "Training Loss: 0.207\n",
      "Test Loss: 0.423\n",
      "Test Accuracy: 0.878\n",
      "Epoch: 23/30..\n",
      "Training Loss: 0.207\n",
      "Test Loss: 0.411\n",
      "Test Accuracy: 0.885\n",
      "Epoch: 24/30..\n",
      "Training Loss: 0.201\n",
      "Test Loss: 0.402\n",
      "Test Accuracy: 0.879\n",
      "Epoch: 25/30..\n",
      "Training Loss: 0.205\n",
      "Test Loss: 0.415\n",
      "Test Accuracy: 0.881\n",
      "Epoch: 26/30..\n",
      "Training Loss: 0.199\n",
      "Test Loss: 0.417\n",
      "Test Accuracy: 0.879\n",
      "Epoch: 27/30..\n",
      "Training Loss: 0.194\n",
      "Test Loss: 0.414\n",
      "Test Accuracy: 0.884\n",
      "Epoch: 28/30..\n",
      "Training Loss: 0.194\n",
      "Test Loss: 0.440\n",
      "Test Accuracy: 0.880\n",
      "Epoch: 29/30..\n",
      "Training Loss: 0.187\n",
      "Test Loss: 0.426\n",
      "Test Accuracy: 0.878\n",
      "Epoch: 30/30..\n",
      "Training Loss: 0.187\n",
      "Test Loss: 0.432\n",
      "Test Accuracy: 0.883\n"
     ]
    }
   ],
   "source": [
    "model = Classifier()\n",
    "criterion = nn.NLLLoss(reduction='sum')\n",
    "optimizer = optim.Adam(model.parameters(), lr=0.003)\n",
    "\n",
    "epochs = 30\n",
    "\n",
    "train_losses, test_losses = [], []\n",
    "for e in range(epochs):\n",
    "    tot_train_loss = 0\n",
    "    for images, labels in trainloader:\n",
    "        optimizer.zero_grad()\n",
    "        \n",
    "        log_ps = model(images)\n",
    "        loss = criterion(log_ps, labels)\n",
    "        tot_train_loss += loss.item()\n",
    "        \n",
    "        loss.backward()\n",
    "        optimizer.step()\n",
    "    \n",
    "    tot_test_loss = 0\n",
    "    test_correct = 0    # Number of correct predictions on the test set\n",
    "    \n",
    "    # Turn off gradients for validation, saves memory and computations\n",
    "    with torch.no_grad():\n",
    "        for images, labels in testloader:\n",
    "            log_ps = model(images)\n",
    "            loss = criterion(log_ps, labels)\n",
    "            tot_test_loss += loss.item()\n",
    "    \n",
    "            ps = torch.exp(log_ps)\n",
    "            top_p, top_class = ps.topk(1, dim=1)\n",
    "            equals = top_class == labels.view(*top_class.shape)\n",
    "            test_correct += equals.sum().item()\n",
    "    \n",
    "    # Get mean loss to enable comparision between train and test sets\n",
    "    train_loss = tot_train_loss / len(trainloader.dataset)\n",
    "    test_loss = tot_test_loss / len(testloader.dataset)\n",
    "    \n",
    "    # At completion of epoch\n",
    "    train_losses.append(train_loss)\n",
    "    test_losses.append(test_loss)\n",
    "    \n",
    "    print(f\"Epoch: {e + 1}/{epochs}..\")\n",
    "    print(f\"Training Loss: {train_loss:.3f}\")\n",
    "    print(f\"Test Loss: {test_loss:.3f}\")\n",
    "    print(f\"Test Accuracy: {test_correct / len(testloader.dataset):.3f}\")"
   ]
  },
  {
   "cell_type": "code",
   "execution_count": 17,
   "id": "11be6587",
   "metadata": {},
   "outputs": [],
   "source": [
    "%matplotlib inline\n",
    "%config InlineBackend.figure_format = 'retina'\n",
    "\n",
    "import matplotlib.pyplot as plt"
   ]
  },
  {
   "cell_type": "code",
   "execution_count": 18,
   "id": "71111798",
   "metadata": {},
   "outputs": [
    {
     "data": {
      "text/plain": [
       "<matplotlib.legend.Legend at 0x7fc278b92d00>"
      ]
     },
     "execution_count": 18,
     "metadata": {},
     "output_type": "execute_result"
    },
    {
     "data": {
      "image/png": "[encoded data removed]",
      "text/plain": [
       "<Figure size 432x288 with 1 Axes>"
      ]
     },
     "metadata": {
      "image/png": {
       "height": 248,
       "width": 380
      },
      "needs_background": "light"
     },
     "output_type": "display_data"
    }
   ],
   "source": [
    "plt.plot(train_losses, label='Training loss')\n",
    "plt.plot(test_losses, label='Validation loss')\n",
    "plt.legend(frameon=False)"
   ]
  },
  {
   "cell_type": "markdown",
   "id": "a6d27906",
   "metadata": {},
   "source": [
    "#### Overfitting\n",
    "\n",
    "The network learns the training set better and better, resulting in lower training losses. However, it starts having problems generalizing to data outside the training set leading to the validation loss increasing. The ultimate goal of any deep learning model is to make predictions on new data, so we should strive to get the lowest validation loss possible. One option is to use the version of the model with the lowest validation loss, here the one around 8-10 training epochs. This strategy is called *early-stopping*. In practice, you'd save the model frequently as you're training then later choose the model with the lowest validation loss.\n",
    "\n",
    "The most common method to reduce overfitting (outside of early-stopping) is *dropout*, where we randomly drop input units. This forces the network to share information between weights, increasing it's ability to generalize to new data. Adding dropout in PyTorch is straightforward using the [`nn.Dropout`](https://pytorch.org/docs/stable/nn.html#torch.nn.Dropout) module.\n",
    "\n",
    "```python\n",
    "class Classifier(nn.Module):\n",
    "    def __init__(self):\n",
    "        super().__init__()\n",
    "        self.fc1 = nn.Linear(784, 256)\n",
    "        self.fc2 = nn.Linear(256, 128)\n",
    "        self.fc3 = nn.Linear(128, 64)\n",
    "        self.fc4 = nn.Linear(64, 10)\n",
    "        \n",
    "        # Dropout module with 0.2 drop probability\n",
    "        self.dropout = nn.Dropout(p=0.2)\n",
    "        \n",
    "    def forward(self, x):\n",
    "        # make sure input tensor is flattened\n",
    "        x = x.view(x.shape[0], -1)\n",
    "        \n",
    "        # Now with dropout\n",
    "        x = self.dropout(F.relu(self.fc1(x)))\n",
    "        x = self.dropout(F.relu(self.fc2(x)))\n",
    "        x = self.dropout(F.relu(self.fc3(x)))\n",
    "        \n",
    "        # output so no dropout here\n",
    "        x = F.log_softmax(self.fc4(x), dim=1)\n",
    "        \n",
    "        return x\n",
    "```\n",
    "\n",
    "During training we want to use dropout to prevent overfitting, but during inference we want to use the entire network. So, we need to turn off dropout during validation, testing, and whenever we're using the network to make predictions. To do this, you use `model.eval()`. This sets the model to evaluation mode where the dropout probability is 0. You can turn dropout back on by setting the model to train mode with `model.train()`. In general, the pattern for the validation loop will look like this, where you turn off gradients, set the model to evaluation mode, calculate the validation loss and metric, then set the model back to train mode.\n",
    "\n",
    "```python\n",
    "# turn off gradients\n",
    "with torch.no_grad():\n",
    "    \n",
    "    # set model to evaluation mode\n",
    "    model.eval()\n",
    "    \n",
    "    # validation pass here\n",
    "    for images, labels in testloader:\n",
    "        ...\n",
    "\n",
    "# set model back to train mode\n",
    "model.train()\n",
    "```"
   ]
  },
  {
   "cell_type": "markdown",
   "id": "c3e6da99",
   "metadata": {},
   "source": [
    "#### Add dropout to model"
   ]
  },
  {
   "cell_type": "code",
   "execution_count": 24,
   "id": "2faa812b",
   "metadata": {},
   "outputs": [],
   "source": [
    "class Classifier(nn.Module):\n",
    "    def __init__(self):\n",
    "        super().__init__()\n",
    "        self.fc1 = nn.Linear(784, 256)\n",
    "        self.fc2 = nn.Linear(256, 128)\n",
    "        self.fc3 = nn.Linear(128, 64)\n",
    "        self.fc4 = nn.Linear(64, 10)\n",
    "        \n",
    "        # Dropout model with 0.2 drop probability\n",
    "        self.dropout = nn.Dropout(p=0.2)\n",
    "        \n",
    "    def forward(self, x):\n",
    "        x = x.view(x.shape[0], -1)\n",
    "        \n",
    "        # add dropout\n",
    "        x = self.dropout(F.relu(self.fc1(x)))\n",
    "        x = self.dropout(F.relu(self.fc2(x)))\n",
    "        x = self.dropout(F.relu(self.fc3(x)))\n",
    "        \n",
    "        # output (no dropout)\n",
    "        x = F.log_softmax(self.fc4(x), dim=1)\n",
    "        \n",
    "        return x"
   ]
  },
  {
   "cell_type": "code",
   "execution_count": 26,
   "id": "8bf0e38b",
   "metadata": {
    "collapsed": true
   },
   "outputs": [
    {
     "name": "stdout",
     "output_type": "stream",
     "text": [
      "Epoch: 1/30..\n",
      "Training Loss: 38.777\n",
      "Test Loss: 29.678\n",
      "Test Accuracy: 0.827\n",
      "Epoch: 2/30..\n",
      "Training Loss: 30.963\n",
      "Test Loss: 28.226\n",
      "Test Accuracy: 0.838\n",
      "Epoch: 3/30..\n",
      "Training Loss: 29.076\n",
      "Test Loss: 28.520\n",
      "Test Accuracy: 0.844\n",
      "Epoch: 4/30..\n",
      "Training Loss: 27.796\n",
      "Test Loss: 27.063\n",
      "Test Accuracy: 0.851\n",
      "Epoch: 5/30..\n",
      "Training Loss: 27.116\n",
      "Test Loss: 27.027\n",
      "Test Accuracy: 0.852\n",
      "Epoch: 6/30..\n",
      "Training Loss: 26.164\n",
      "Test Loss: 25.431\n",
      "Test Accuracy: 0.859\n",
      "Epoch: 7/30..\n",
      "Training Loss: 25.727\n",
      "Test Loss: 26.627\n",
      "Test Accuracy: 0.857\n",
      "Epoch: 8/30..\n",
      "Training Loss: 25.096\n",
      "Test Loss: 25.590\n",
      "Test Accuracy: 0.859\n",
      "Epoch: 9/30..\n",
      "Training Loss: 25.111\n",
      "Test Loss: 23.608\n",
      "Test Accuracy: 0.868\n",
      "Epoch: 10/30..\n",
      "Training Loss: 24.958\n",
      "Test Loss: 25.724\n",
      "Test Accuracy: 0.859\n",
      "Epoch: 11/30..\n",
      "Training Loss: 24.559\n",
      "Test Loss: 24.596\n",
      "Test Accuracy: 0.865\n",
      "Epoch: 12/30..\n",
      "Training Loss: 24.475\n",
      "Test Loss: 24.371\n",
      "Test Accuracy: 0.866\n",
      "Epoch: 13/30..\n",
      "Training Loss: 24.027\n",
      "Test Loss: 25.568\n",
      "Test Accuracy: 0.862\n",
      "Epoch: 14/30..\n",
      "Training Loss: 23.735\n",
      "Test Loss: 25.196\n",
      "Test Accuracy: 0.860\n",
      "Epoch: 15/30..\n",
      "Training Loss: 23.329\n",
      "Test Loss: 25.015\n",
      "Test Accuracy: 0.865\n",
      "Epoch: 16/30..\n",
      "Training Loss: 23.548\n",
      "Test Loss: 24.800\n",
      "Test Accuracy: 0.857\n",
      "Epoch: 17/30..\n",
      "Training Loss: 23.259\n",
      "Test Loss: 24.199\n",
      "Test Accuracy: 0.868\n",
      "Epoch: 18/30..\n",
      "Training Loss: 23.251\n",
      "Test Loss: 23.727\n",
      "Test Accuracy: 0.871\n",
      "Epoch: 19/30..\n",
      "Training Loss: 23.102\n",
      "Test Loss: 23.662\n",
      "Test Accuracy: 0.873\n",
      "Epoch: 20/30..\n",
      "Training Loss: 22.932\n",
      "Test Loss: 24.629\n",
      "Test Accuracy: 0.864\n",
      "Epoch: 21/30..\n",
      "Training Loss: 22.558\n",
      "Test Loss: 24.187\n",
      "Test Accuracy: 0.867\n",
      "Epoch: 22/30..\n",
      "Training Loss: 22.434\n",
      "Test Loss: 24.527\n",
      "Test Accuracy: 0.866\n",
      "Epoch: 23/30..\n",
      "Training Loss: 22.553\n",
      "Test Loss: 23.834\n",
      "Test Accuracy: 0.875\n",
      "Epoch: 24/30..\n",
      "Training Loss: 22.289\n",
      "Test Loss: 23.688\n",
      "Test Accuracy: 0.872\n",
      "Epoch: 25/30..\n",
      "Training Loss: 21.991\n",
      "Test Loss: 23.970\n",
      "Test Accuracy: 0.872\n",
      "Epoch: 26/30..\n",
      "Training Loss: 21.961\n",
      "Test Loss: 22.820\n",
      "Test Accuracy: 0.876\n",
      "Epoch: 27/30..\n",
      "Training Loss: 21.721\n",
      "Test Loss: 24.267\n",
      "Test Accuracy: 0.871\n",
      "Epoch: 28/30..\n",
      "Training Loss: 21.840\n",
      "Test Loss: 24.336\n",
      "Test Accuracy: 0.870\n",
      "Epoch: 29/30..\n",
      "Training Loss: 21.903\n",
      "Test Loss: 24.248\n",
      "Test Accuracy: 0.876\n",
      "Epoch: 30/30..\n",
      "Training Loss: 21.499\n",
      "Test Loss: 23.236\n",
      "Test Accuracy: 0.873\n"
     ]
    }
   ],
   "source": [
    "model = Classifier()\n",
    "criterion = nn.NLLLoss(reduction='sum')\n",
    "optimizer = optim.Adam(model.parameters(), lr=0.003)\n",
    "\n",
    "epochs = 30\n",
    "steps = 0\n",
    "\n",
    "train_losses, test_losses = [], []\n",
    "for e in range(epochs):\n",
    "    running_loss = 0\n",
    "    for images, labels in trainloader:\n",
    "        optimizer.zero_grad()\n",
    "        \n",
    "        log_ps = model(images)\n",
    "        loss = criterion(log_ps, labels)\n",
    "        loss.backward()\n",
    "        optimizer.step()\n",
    "        \n",
    "        running_loss += loss.item()\n",
    "    \n",
    "    else:\n",
    "        test_loss = 0\n",
    "        accuracy = 0\n",
    "        with torch.no_grad():\n",
    "            model.eval()\n",
    "            for images, labels in testloader:\n",
    "                log_ps = model(images)\n",
    "                test_loss += criterion(log_ps, labels)\n",
    "                \n",
    "                ps = torch.exp(log_ps)\n",
    "                top_p, top_class = ps.topk(1, dim=1)\n",
    "                equals = top_class == labels.view(*top_class.shape)\n",
    "                accuracy += torch.mean(equals.type(torch.FloatTensor))\n",
    "            \n",
    "        model.train()\n",
    "        \n",
    "        train_losses.append(running_loss / len(trainloader))\n",
    "        test_losses.append(test_loss / len(testloader))\n",
    "        \n",
    "        print(f\"Epoch: {e + 1}/{epochs}..\")\n",
    "        print(f\"Training Loss: {train_losses[-1]:.3f}\")\n",
    "        print(f\"Test Loss: {test_losses[-1]:.3f}\")\n",
    "        print(f\"Test Accuracy: {accuracy / len(testloader):.3f}\")"
   ]
  },
  {
   "cell_type": "code",
   "execution_count": 27,
   "id": "535f9525",
   "metadata": {},
   "outputs": [
    {
     "name": "stderr",
     "output_type": "stream",
     "text": [
      "UsageError: Line magic function `%matplitlib` not found.\n"
     ]
    }
   ],
   "source": [
    "%matplitlib inline\n",
    "%config InlineBackend.figure_format='retina'"
   ]
  },
  {
   "cell_type": "code",
   "execution_count": 28,
   "id": "af32ac2b",
   "metadata": {},
   "outputs": [
    {
     "data": {
      "text/plain": [
       "<matplotlib.legend.Legend at 0x7fc27a4cea60>"
      ]
     },
     "execution_count": 28,
     "metadata": {},
     "output_type": "execute_result"
    },
    {
     "data": {
      "image/png": "[encoded data removed]",
      "text/plain": [
       "<Figure size 432x288 with 1 Axes>"
      ]
     },
     "metadata": {
      "image/png": {
       "height": 248,
       "width": 380
      },
      "needs_background": "light"
     },
     "output_type": "display_data"
    }
   ],
   "source": [
    "plt.plot(train_losses, label='Training loss')\n",
    "plt.plot(test_losses, label='Validation loss')\n",
    "plt.legend(frameon=False)"
   ]
  },
  {
   "cell_type": "markdown",
   "id": "bba4c8de",
   "metadata": {},
   "source": [
    "### Inference\n",
    "\n",
    "Now that the model is trained, we can use it for inference. We've done this before, but now we need to remember to set the model in inference mode with `model.eval()`. You'll also want to turn off autograd with the `torch.no_grad()` context."
   ]
  },
  {
   "cell_type": "code",
   "execution_count": 29,
   "id": "916d2572",
   "metadata": {},
   "outputs": [],
   "source": [
    "import helper"
   ]
  },
  {
   "cell_type": "code",
   "execution_count": 31,
   "id": "4b64f799",
   "metadata": {},
   "outputs": [
    {
     "data": {
      "image/png": "[encoded data removed]",
      "text/plain": [
       "<Figure size 432x648 with 2 Axes>"
      ]
     },
     "metadata": {
      "image/png": {
       "height": 216,
       "width": 424
      },
      "needs_background": "light"
     },
     "output_type": "display_data"
    }
   ],
   "source": [
    "model.eval()\n",
    "\n",
    "dataiter = iter(testloader)\n",
    "images, labels = dataiter.next()\n",
    "img = images[0]\n",
    "\n",
    "img = img.view(1, 784)\n",
    "\n",
    "with torch.no_grad():\n",
    "    output = model.forward(img)\n",
    "\n",
    "ps = torch.exp(output)\n",
    "\n",
    "helper.view_classify(img.view(1, 28, 28), ps, version='Fashion')"
   ]
  },
  {
   "cell_type": "code",
   "execution_count": null,
   "id": "cc926249",
   "metadata": {},
   "outputs": [],
   "source": []
  }
 ],
 "metadata": {
  "kernelspec": {
   "display_name": "Python 3 (ipykernel)",
   "language": "python",
   "name": "python3"
  },
  "language_info": {
   "codemirror_mode": {
    "name": "ipython",
    "version": 3
   },
   "file_extension": ".py",
   "mimetype": "text/x-python",
   "name": "python",
   "nbconvert_exporter": "python",
   "pygments_lexer": "ipython3",
   "version": "3.8.10"
  }
 },
 "nbformat": 4,
 "nbformat_minor": 5
}
