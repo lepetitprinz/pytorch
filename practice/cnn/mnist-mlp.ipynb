{
 "cells": [
  {
   "cell_type": "markdown",
   "id": "c657aeb0",
   "metadata": {},
   "source": [
    "## MNIST"
   ]
  },
  {
   "cell_type": "code",
   "execution_count": 1,
   "id": "bb204c22",
   "metadata": {},
   "outputs": [],
   "source": [
    "import torch\n",
    "import numpy as np"
   ]
  },
  {
   "cell_type": "markdown",
   "id": "e3bf9ff6",
   "metadata": {},
   "source": [
    "### Load and Visualize the Dataset"
   ]
  },
  {
   "cell_type": "code",
   "execution_count": 2,
   "id": "f885e4c3",
   "metadata": {},
   "outputs": [],
   "source": [
    "# The MNIST datasets are hosted on yann.lecun.com that has moved under CloudFlare protection\n",
    "# Run this script to enable the datasets download\n",
    "# Reference: https://github.com/pytorch/vision/issues/1938\n",
    "from six.moves import urllib"
   ]
  },
  {
   "cell_type": "code",
   "execution_count": 8,
   "id": "4f6b9902",
   "metadata": {},
   "outputs": [],
   "source": [
    "opener = urllib.request.build_opener()\n",
    "opener.addheaders = [('User-agent', 'Mozilla/5.0')]\n",
    "urllib.request.install_opener(opener)"
   ]
  },
  {
   "cell_type": "code",
   "execution_count": 9,
   "id": "f45bb256",
   "metadata": {},
   "outputs": [],
   "source": [
    "from torchvision import datasets\n",
    "import torchvision.transforms as transforms"
   ]
  },
  {
   "cell_type": "code",
   "execution_count": 15,
   "id": "f1ab4d1d",
   "metadata": {},
   "outputs": [],
   "source": [
    "# number of subprocesses to use for data loading\n",
    "num_workers = 0\n",
    "\n",
    "# how many samples per batch to load\n",
    "batch_size = 20\n",
    "\n",
    "# convert data to torch.FloatTensor\n",
    "transform = transforms.ToTensor()\n",
    "\n",
    "# choose the training and test datasets\n",
    "train_data = datasets.MNIST(root='data', train=True, download=True, transform=transform)\n",
    "test_data = datasets.MNIST(root='data', train=False, download=True, transform=transform)\n",
    "\n",
    "# prepare data loaders\n",
    "trainloader = torch.utils.data.DataLoader(train_data, batch_size=batch_size, num_workers=num_workers)\n",
    "testloader = torch.utils.data.DataLoader(test_data, batch_size=batch_size, num_workers=num_workers)"
   ]
  },
  {
   "cell_type": "markdown",
   "id": "3954a762",
   "metadata": {},
   "source": [
    "### Visualize a Batch of Training Data"
   ]
  },
  {
   "cell_type": "code",
   "execution_count": 23,
   "id": "24aa1f30",
   "metadata": {
    "collapsed": true
   },
   "outputs": [
    {
     "data": {
      "image/png": "[encoded data removed]",
      "text/plain": [
       "<Figure size 1800x288 with 20 Axes>"
      ]
     },
     "metadata": {},
     "output_type": "display_data"
    }
   ],
   "source": [
    "import matplotlib.pyplot as plt\n",
    "%matplotlib inline\n",
    "\n",
    "# obtain one batch of training images\n",
    "dataiter = iter(trainloader)\n",
    "images, labels = dataiter.next()\n",
    "images = images.numpy()\n",
    "\n",
    "# plot the images in the batch, along with the corresponding labels\n",
    "fig = plt.figure(figsize=(25, 4))\n",
    "for idx in range(20):\n",
    "    ax = fig.add_subplot(2, 10, idx + 1, xticks=[], yticks=[])\n",
    "    ax.imshow(np.squeeze(images[idx]), cmap='gray')\n",
    "    ax.set_title(str(labels[idx].item()))"
   ]
  },
  {
   "cell_type": "markdown",
   "id": "7c3b884c",
   "metadata": {},
   "source": [
    "### Define the Network Architecture "
   ]
  },
  {
   "cell_type": "code",
   "execution_count": 37,
   "id": "b3b943b3",
   "metadata": {},
   "outputs": [],
   "source": [
    "import torch.nn as nn\n",
    "import torch.nn.functional as F\n",
    "\n",
    "class Network(nn.Module):\n",
    "    def __init__(self):\n",
    "        super(Network, self).__init__()\n",
    "        self.fc1 = nn.Linear(784, 256)\n",
    "        self.fc2 = nn.Linear(256, 64)\n",
    "        self.fc3 = nn.Linear(64, 32)\n",
    "        self.fc4 = nn.Linear(32, 10)\n",
    "        \n",
    "        self.dropout = nn.Dropout(p=0.3)\n",
    "        \n",
    "    def forward(self, x):\n",
    "        # flatten image input\n",
    "        x = x.view(-1, 784)\n",
    "        \n",
    "        # add hiden layer with relu activation  function\n",
    "        x = self.dropout(F.relu(self.fc1(x)))\n",
    "        x = self.dropout(F.relu(self.fc2(x)))\n",
    "        x = self.dropout(F.relu(self.fc3(x)))\n",
    "        x = self.fc4(x)\n",
    "        \n",
    "        return x"
   ]
  },
  {
   "cell_type": "code",
   "execution_count": 38,
   "id": "ba1df181",
   "metadata": {},
   "outputs": [
    {
     "name": "stdout",
     "output_type": "stream",
     "text": [
      "Network(\n",
      "  (fc1): Linear(in_features=784, out_features=256, bias=True)\n",
      "  (fc2): Linear(in_features=256, out_features=64, bias=True)\n",
      "  (fc3): Linear(in_features=64, out_features=32, bias=True)\n",
      "  (fc4): Linear(in_features=32, out_features=10, bias=True)\n",
      "  (dropout): Dropout(p=0.3, inplace=False)\n",
      ")\n"
     ]
    }
   ],
   "source": [
    "# initialize the NN\n",
    "model = Network()\n",
    "print(model)"
   ]
  },
  {
   "cell_type": "markdown",
   "id": "db151263",
   "metadata": {},
   "source": [
    "#### Specify Loss Function and Optimizer"
   ]
  },
  {
   "cell_type": "code",
   "execution_count": 39,
   "id": "9196a4dc",
   "metadata": {},
   "outputs": [],
   "source": [
    "criterion = nn.CrossEntropyLoss()\n",
    "optimizer = torch.optim.Adam(model.parameters(), lr=0.003)"
   ]
  },
  {
   "cell_type": "markdown",
   "id": "1fbdded8",
   "metadata": {},
   "source": [
    "#### Traini the Network"
   ]
  },
  {
   "cell_type": "code",
   "execution_count": 40,
   "id": "1be5f1a4",
   "metadata": {},
   "outputs": [
    {
     "name": "stdout",
     "output_type": "stream",
     "text": [
      "Epoch: 1 \tTraining Loss: 0.434\n",
      "Epoch: 2 \tTraining Loss: 0.274\n",
      "Epoch: 3 \tTraining Loss: 0.233\n",
      "Epoch: 4 \tTraining Loss: 0.219\n",
      "Epoch: 5 \tTraining Loss: 0.198\n",
      "Epoch: 6 \tTraining Loss: 0.192\n",
      "Epoch: 7 \tTraining Loss: 0.183\n",
      "Epoch: 8 \tTraining Loss: 0.173\n",
      "Epoch: 9 \tTraining Loss: 0.167\n",
      "Epoch: 10 \tTraining Loss: 0.163\n",
      "Epoch: 11 \tTraining Loss: 0.160\n",
      "Epoch: 12 \tTraining Loss: 0.153\n",
      "Epoch: 13 \tTraining Loss: 0.151\n",
      "Epoch: 14 \tTraining Loss: 0.147\n",
      "Epoch: 15 \tTraining Loss: 0.140\n",
      "Epoch: 16 \tTraining Loss: 0.140\n",
      "Epoch: 17 \tTraining Loss: 0.144\n",
      "Epoch: 18 \tTraining Loss: 0.137\n",
      "Epoch: 19 \tTraining Loss: 0.139\n",
      "Epoch: 20 \tTraining Loss: 0.132\n"
     ]
    }
   ],
   "source": [
    "epochs = 20\n",
    "\n",
    "model.train()\n",
    "\n",
    "for epoch in range(epochs):\n",
    "    train_loss = 0.\n",
    "    for images, labels in trainloader:\n",
    "        # clear the gradients of all optimized variables\n",
    "        optimizer.zero_grad()\n",
    "        # forward pass: compute predicted outputs by passing inputs to the model\n",
    "        outputs = model(images)\n",
    "        # calculate the loss\n",
    "        loss = criterion(outputs, labels)\n",
    "        # backward pass: compute gradient of the loss with respect to model parameters\n",
    "        loss.backward()\n",
    "        # perform a single optimization step (parameter update)\n",
    "        optimizer.step()\n",
    "        # update running training loss\n",
    "        train_loss += loss.item() * images.size(0)\n",
    "    \n",
    "    # print training statistics\n",
    "    # calculate average loss over an epoch\n",
    "    train_loss = train_loss / len(trainloader.dataset)\n",
    "    print(f'Epoch: {epoch + 1} \\tTraining Loss: {train_loss:.3f}')"
   ]
  },
  {
   "cell_type": "markdown",
   "id": "e55cf302",
   "metadata": {},
   "source": [
    "#### Test the Trained Network"
   ]
  },
  {
   "cell_type": "code",
   "execution_count": 46,
   "id": "7b21c82c",
   "metadata": {},
   "outputs": [
    {
     "name": "stdout",
     "output_type": "stream",
     "text": [
      "Test Loss: 0.137\n",
      "\n",
      "Test Accuracy of 0: 99.38775510204081 (974.0/980.0)\n",
      "Test Accuracy of 1: 98.8546255506608 (1122.0/1135.0)\n",
      "Test Accuracy of 2: 97.38372093023256 (1005.0/1032.0)\n",
      "Test Accuracy of 3: 97.92079207920793 (989.0/1010.0)\n",
      "Test Accuracy of 4: 97.75967413441956 (960.0/982.0)\n",
      "Test Accuracy of 5: 97.19730941704036 (867.0/892.0)\n",
      "Test Accuracy of 6: 97.18162839248434 (931.0/958.0)\n",
      "Test Accuracy of 7: 97.76264591439688 (1005.0/1028.0)\n",
      "Test Accuracy of 8: 95.89322381930185 (934.0/974.0)\n",
      "Test Accuracy of 9: 96.72943508424183 (976.0/1009.0)\n",
      "\n",
      "Test Accuracy (Overall): 97% (9763/10000)\n"
     ]
    }
   ],
   "source": [
    "# initialize lists to monitor test loss and accuracy\n",
    "test_loss = 0.\n",
    "class_correct = list(0. for i in range(10))\n",
    "class_total = list(0. for i in range(10))\n",
    "\n",
    "model.eval()\n",
    "for images, labels in testloader:\n",
    "    # forward pass: compute predicted outputs by passing inputs to the model\n",
    "    outputs = model(images)\n",
    "    # calculate the loss\n",
    "    loss = criterion(outputs, labels)\n",
    "    # update test loss\n",
    "    test_loss += loss.item() * images.size(0)\n",
    "    # convert output probabilities to predicted class\n",
    "    _, pred = torch.max(outputs, 1)\n",
    "    # compare predictions to true label\n",
    "    correct = np.squeeze(pred.eq(labels.data.view_as(pred)))\n",
    "    # calculate  test accuracy for each object class\n",
    "    for i in range(batch_size):\n",
    "        label = labels.data[i]\n",
    "        class_correct[label] += correct[i].item()\n",
    "        class_total[label] += 1\n",
    "\n",
    "# calculate and print avg test loss\n",
    "test_loss = test_loss / len(testloader.dataset)\n",
    "print(f'Test Loss: {test_loss:.3f}\\n')\n",
    "\n",
    "for i in range(10):\n",
    "    if class_total[i] > 0:\n",
    "        print(f'Test Accuracy of {str(i)}: {100 * class_correct[i] / class_total[i]} ({class_correct[i]}/{class_total[i]})')\n",
    "    else:\n",
    "        print(f'Test Accuracy of {classes[i]}: N/A (no training examples)')\n",
    "\n",
    "print('\\nTest Accuracy (Overall): %2d%% (%2d/%2d)' % (\n",
    "    100. * np.sum(class_correct) / np.sum(class_total),\n",
    "    np.sum(class_correct), np.sum(class_total)))"
   ]
  },
  {
   "cell_type": "markdown",
   "id": "18c7c06f",
   "metadata": {},
   "source": [
    "#### Visualize Sample Test Results"
   ]
  },
  {
   "cell_type": "code",
   "execution_count": 49,
   "id": "becff159",
   "metadata": {},
   "outputs": [
    {
     "ename": "NameError",
     "evalue": "name 'otuputs' is not defined",
     "output_type": "error",
     "traceback": [
      "\u001b[0;31m---------------------------------------------------------------------------\u001b[0m",
      "\u001b[0;31mNameError\u001b[0m                                 Traceback (most recent call last)",
      "Input \u001b[0;32mIn [49]\u001b[0m, in \u001b[0;36m<cell line: 9>\u001b[0;34m()\u001b[0m\n\u001b[1;32m      6\u001b[0m outputs \u001b[38;5;241m=\u001b[39m model(images)\n\u001b[1;32m      8\u001b[0m \u001b[38;5;66;03m# convert output probabilities to predicted class\u001b[39;00m\n\u001b[0;32m----> 9\u001b[0m _, preds \u001b[38;5;241m=\u001b[39m torch\u001b[38;5;241m.\u001b[39mmax(\u001b[43motuputs\u001b[49m, \u001b[38;5;241m1\u001b[39m)\n\u001b[1;32m     11\u001b[0m \u001b[38;5;66;03m# preprcess images for display\u001b[39;00m\n\u001b[1;32m     12\u001b[0m images \u001b[38;5;241m=\u001b[39m images\u001b[38;5;241m.\u001b[39mnumpy()\n",
      "\u001b[0;31mNameError\u001b[0m: name 'otuputs' is not defined"
     ]
    }
   ],
   "source": [
    "# obtain one batch of test images\n",
    "dataiter= iter(testloader)\n",
    "images, labels = dataiter.next()\n",
    "\n",
    "# get sample outputs\n",
    "outputs = model(images)\n",
    "\n",
    "# convert output probabilities to predicted class\n",
    "_, preds = torch.max(otuputs, 1)\n",
    "\n",
    "# preprcess images for display\n",
    "images = images.numpy()\n",
    "\n",
    "# plot the images\n",
    "fig = plt.figure(figsize=(25, 4))\n",
    "for idx in np.arange(20):\n",
    "    ax = fig.add_subplot(2, 20/2, idx+1, xticks=[], yticks=[])\n",
    "    ax.imshow(np.squeeze(images[idx]), cmap='gray')\n",
    "    ax.set_title(\"{} ({})\".format(str(preds[idx].item()), str(labels[idx].item())),\n",
    "                 color=(\"green\" if preds[idx]==labels[idx] else \"red\"))"
   ]
  },
  {
   "cell_type": "code",
   "execution_count": null,
   "id": "f9d7d25e",
   "metadata": {},
   "outputs": [],
   "source": []
  }
 ],
 "metadata": {
  "kernelspec": {
   "display_name": "Python 3 (ipykernel)",
   "language": "python",
   "name": "python3"
  },
  "language_info": {
   "codemirror_mode": {
    "name": "ipython",
    "version": 3
   },
   "file_extension": ".py",
   "mimetype": "text/x-python",
   "name": "python",
   "nbconvert_exporter": "python",
   "pygments_lexer": "ipython3",
   "version": "3.8.10"
  }
 },
 "nbformat": 4,
 "nbformat_minor": 5
}
